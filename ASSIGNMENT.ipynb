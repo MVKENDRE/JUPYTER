{
 "cells": [
  {
   "cell_type": "markdown",
   "id": "dc3f5f1b-76ea-4cf6-8f68-ba3bb8f2fb3d",
   "metadata": {},
   "source": [
    "\n",
    "\n",
    "markdown_cell_1 = \"\"\"\n",
    "# My Jupyter Notebook on IBM Watson Studio\n",
    "\"\"\"\n",
    "\n",
    "markdown_cell_2 = \"\"\"\n",
    "**MAHESH KENDRE**\n",
    "\n",
    "Data Scientist\n",
    "\"\"\"\n",
    "\n",
    "markdown_cell_3 = \"\"\"\n",
    "_I am interested in data science because it allows me to work with large amounts of data and find patterns and insights that can help inform better decision making. I am also fascinated by the potential of data science to make a positive impact on the world._\n",
    "\"\"\"\n",
    "\n",
    "markdown_cell_4 = \"\"\"\n",
    "### Calculating the sum of two numbers\n",
    "\"\"\"\n",
    "\n",
    "code_cell = \"\"\"\n",
    "1 + 1\n",
    "\"\"\"\n",
    "\n",
    "markdown_cell_5 = \"\"\"\n",
    "---\n",
    "\n",
    "### Lists and formatting in Markdown\n",
    "\n",
    "- Bulleted list\n",
    "  - Nested item\n",
    "  - Nested item\n",
    "- Bulleted list item\n",
    "\n",
    "1. Numbered list\n",
    "2. Numbered list\n",
    "\n",
    "| Column 1 | Column 2 |\n",
    "|----------|----------|\n",
    "| Row 1, Column 1 | Row 1, Column 2 |\n",
    "| Row 2, Column 1 | Row 2, Column 2 |\n",
    "\n",
    "[Link to Google](https://www.google.com)\n",
    "\n",
    "![Alt text for image](https://via.placeholder.com/150)\n",
    "\n",
    "```python\n",
    "print(\"Code/Syntax highlighting\")\n"
   ]
  },
  {
   "cell_type": "code",
   "execution_count": 2,
   "id": "48dcf82d-2414-4a18-bd65-f65052c532e2",
   "metadata": {},
   "outputs": [
    {
     "ename": "SyntaxError",
     "evalue": "EOF while scanning triple-quoted string literal (4127979074.py, line 2)",
     "output_type": "error",
     "traceback": [
      "\u001b[0;36m  File \u001b[0;32m\"/tmp/ipykernel_1859/4127979074.py\"\u001b[0;36m, line \u001b[0;32m2\u001b[0m\n\u001b[0;31m    \"\"\"\u001b[0m\n\u001b[0m       ^\u001b[0m\n\u001b[0;31mSyntaxError\u001b[0m\u001b[0;31m:\u001b[0m EOF while scanning triple-quoted string literal\n"
     ]
    }
   ],
   "source": [
    "\n",
    "# My Jupyter Notebook on IBM Watson Studio\n",
    "\"\"\""
   ]
  },
  {
   "cell_type": "markdown",
   "id": "d4bde5ec-501c-4c88-8419-0b593b46c402",
   "metadata": {},
   "source": []
  }
 ],
 "metadata": {
  "kernelspec": {
   "display_name": "Python",
   "language": "python",
   "name": "conda-env-python-py"
  },
  "language_info": {
   "codemirror_mode": {
    "name": "ipython",
    "version": 3
   },
   "file_extension": ".py",
   "mimetype": "text/x-python",
   "name": "python",
   "nbconvert_exporter": "python",
   "pygments_lexer": "ipython3",
   "version": "3.7.12"
  }
 },
 "nbformat": 4,
 "nbformat_minor": 5
}
