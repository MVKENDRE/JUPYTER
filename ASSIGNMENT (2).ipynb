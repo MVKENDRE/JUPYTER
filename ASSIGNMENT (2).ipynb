# Cell 1
# My Jupyter Notebook on IBM Watson Studio

# Cell 2
## **John Doe**
### Data Scientist

# Cell 3
## I am interested in data science because it is a rapidly growing field that allows me to combine my love of mathematics, programming, and problem-solving skills to solve real-world problems.

# Cell 4
## Code to find the sum of two numbers

# Cell 5
def sum_of_numbers(a, b):
    return a + b

print(sum_of_numbers(1, 1))

# Cell 6
## Horizontal rule
---

## Bulleted List
- First item
- Second item
- Third item

## Numbered List
1. First item
2. Second item
3. Third item

## Table
| Column 1 | Column 2 |
|----------|----------|
| Row 1, Column 1 | Row 1, Column 2 |
| Row 2, Column 1 | Row 2, Column 2 |

## Hyperlinks
[OpenAI](https://openai.com)

## Images
![Image of a computer](https://image.shutterstock.com/image-photo/image-computer-260nw-1633885418.jpg)

## Code/Syntax Highlighting
```python
print("Hello World")
